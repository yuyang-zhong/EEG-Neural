{
  "nbformat": 4,
  "nbformat_minor": 0,
  "metadata": {
    "kernelspec": {
      "display_name": "Python 3",
      "language": "python",
      "name": "python3"
    },
    "language_info": {
      "codemirror_mode": {
        "name": "ipython",
        "version": 3
      },
      "file_extension": ".py",
      "mimetype": "text/x-python",
      "name": "python",
      "nbconvert_exporter": "python",
      "pygments_lexer": "ipython3",
      "version": "3.6.9"
    },
    "colab": {
      "name": "DMA20 - Lab 3: Decision Trees.ipynb",
      "provenance": [],
      "collapsed_sections": [],
      "include_colab_link": true
    }
  },
  "cells": [
    {
      "cell_type": "markdown",
      "metadata": {
        "id": "view-in-github",
        "colab_type": "text"
      },
      "source": [
        "<a href=\"https://colab.research.google.com/github/yuyang-zhong/EEG-Neural/blob/master/DMA20_Lab_3_Decision_Trees.ipynb\" target=\"_parent\"><img src=\"https://colab.research.google.com/assets/colab-badge.svg\" alt=\"Open In Colab\"/></a>"
      ]
    },
    {
      "cell_type": "markdown",
      "metadata": {
        "id": "vAxKKJ84ugjs",
        "colab_type": "text"
      },
      "source": [
        "# DMA Fall '20"
      ]
    },
    {
      "cell_type": "code",
      "metadata": {
        "id": "nFr3Tjz_ugjv",
        "colab_type": "code",
        "colab": {}
      },
      "source": [
        "NAME = \"Yuyang Zhong\"\n",
        "COLLABORATORS = \"\""
      ],
      "execution_count": 1,
      "outputs": []
    },
    {
      "cell_type": "markdown",
      "metadata": {
        "id": "VtQyVZG7ugj0",
        "colab_type": "text"
      },
      "source": [
        "---"
      ]
    },
    {
      "cell_type": "markdown",
      "metadata": {
        "deletable": false,
        "editable": false,
        "nbgrader": {
          "checksum": "0ec61936c13b80ce01fa0818121a29a9",
          "grade": false,
          "grade_id": "cell-c6a6e713740ff888",
          "locked": true,
          "schema_version": 1,
          "solution": false
        },
        "id": "dSxT_unDugj1",
        "colab_type": "text"
      },
      "source": [
        "# Lab 3: Decision Trees\n",
        "\n",
        "**Please read the following instructions very carefully**\n",
        "\n",
        "## Working on the assignment / FAQs\n",
        "- **Always use the seed/random_state as *42* wherever applicable** (This is to ensure repeatability in answers, across students and coding environments) \n",
        "- Questions can be either autograded and manually graded.\n",
        "- The type of question and the points they carry are indicated in each question cell\n",
        "- An autograded question has 3 cells\n",
        "     - **Question cell** : Read only cell containing the question\n",
        "     - **Code Cell** : This is where you write the code\n",
        "     - **Grading cell** : This is where the grading occurs, and **you are required not to edit this cell**\n",
        "- Manually graded questions only have the question and code cells. **All manually graded questions are explicitly stated**\n",
        "- To avoid any ambiguity, each question also specifies what *value* must be set. Note that these are dummy values and not the answers\n",
        "- If an autograded question has multiple answers (due to differences in handling NaNs, zeros etc.), all answers will be considered.\n",
        "- Most assignments have bonus questions for extra credit, do try them out! \n",
        "- You can delete the `raise NotImplementedError()` for all questions.\n",
        "- **Submitting the assignment** : Download the '.ipynb' file from Colab and upload it to bcourses. Do not delete any outputs from cells before submitting.\n",
        "- That's about it. Happy coding!\n",
        "\n",
        "\n",
        "## About the dataset\n",
        "This assignment uses a dataset obtained from the JSE Data Archive that contains biological and self-reported activity traits of a sample of college students at a single university uploaded in 2013. The study associated with these data focused on exploring if a correspondence exists between eye color and and other traits. You will be using gender as the target/label in this lab.\n",
        "\n",
        "FEATURE DESCRIPTIONS: \n",
        "- Color (Blue, Brown, Green, Hazel, Other)\n",
        "- Age (in years)\n",
        "- YearinSchool (First, Second, Third, Fourth, Other)\n",
        "- Height (in inches)\n",
        "- Miles (distance from home town of student to Ames, IA) \n",
        "- Brothers (number of brothers)\n",
        "- Sisters (number of sisters)\n",
        "- CompTime (number of hours spent on computer per week)\n",
        "- Exercise (whether the student exercises Yes or No)\n",
        "- ExerTime (number of hours spent exercising per week)\n",
        "- MusicCDs (number of music CDs student owns)\n",
        "- PlayGames (number of hours spent playing games per week)\n",
        "- WatchTV (number of hours spent watching TV per week\n",
        "\n",
        "https://ww2.amstat.org/publications/jse/jse_data_archive.htm (eyecolorgenderdata.csv)\n"
      ]
    },
    {
      "cell_type": "code",
      "metadata": {
        "deletable": false,
        "editable": false,
        "nbgrader": {
          "checksum": "0fb5897b9d372125635a32c3c25065db",
          "grade": false,
          "grade_id": "cell-0c1c5a5b7543f388",
          "locked": true,
          "schema_version": 1,
          "solution": false
        },
        "id": "xeiDHBc5ugj2",
        "colab_type": "code",
        "colab": {
          "base_uri": "https://localhost:8080/",
          "height": 272
        },
        "outputId": "feefea9d-f759-4c51-bd3e-56200ecf2d57"
      },
      "source": [
        "from collections import Counter, defaultdict\n",
        "from itertools import combinations \n",
        "import pandas as pd\n",
        "import numpy as np\n",
        "import operator\n",
        "import math\n",
        "\n",
        "!wget -nc http://people.ischool.berkeley.edu/~zp/course_datasets/eye_color.zip\n",
        "!unzip -u eye_color.zip\n",
        "!ls\n",
        "df = pd.read_csv('Eye_Color.csv')\n",
        "# remove NA's and reset the index\n",
        "df = df.dropna(axis=0, how='any', thresh=None, subset=None, inplace=False)\n",
        "df = df.reset_index(drop=True)\n",
        "\n",
        "df.head()"
      ],
      "execution_count": 2,
      "outputs": [
        {
          "output_type": "stream",
          "text": [
            "File ‘eye_color.zip’ already there; not retrieving.\n",
            "\n",
            "Archive:  eye_color.zip\n",
            "Eye_Color.csv  Eye_Color_Dataset_Description.txt  eye_color.zip  sample_data\n"
          ],
          "name": "stdout"
        },
        {
          "output_type": "execute_result",
          "data": {
            "text/html": [
              "<div>\n",
              "<style scoped>\n",
              "    .dataframe tbody tr th:only-of-type {\n",
              "        vertical-align: middle;\n",
              "    }\n",
              "\n",
              "    .dataframe tbody tr th {\n",
              "        vertical-align: top;\n",
              "    }\n",
              "\n",
              "    .dataframe thead th {\n",
              "        text-align: right;\n",
              "    }\n",
              "</style>\n",
              "<table border=\"1\" class=\"dataframe\">\n",
              "  <thead>\n",
              "    <tr style=\"text-align: right;\">\n",
              "      <th></th>\n",
              "      <th>gender</th>\n",
              "      <th>age</th>\n",
              "      <th>year</th>\n",
              "      <th>eyecolor</th>\n",
              "      <th>height</th>\n",
              "      <th>miles</th>\n",
              "      <th>brothers</th>\n",
              "      <th>sisters</th>\n",
              "      <th>computertime</th>\n",
              "      <th>exercise</th>\n",
              "      <th>exercisehours</th>\n",
              "      <th>musiccds</th>\n",
              "      <th>playgames</th>\n",
              "      <th>watchtv</th>\n",
              "    </tr>\n",
              "  </thead>\n",
              "  <tbody>\n",
              "    <tr>\n",
              "      <th>0</th>\n",
              "      <td>female</td>\n",
              "      <td>18</td>\n",
              "      <td>first</td>\n",
              "      <td>hazel</td>\n",
              "      <td>68.0</td>\n",
              "      <td>195.0</td>\n",
              "      <td>0</td>\n",
              "      <td>1</td>\n",
              "      <td>20.0</td>\n",
              "      <td>Yes</td>\n",
              "      <td>3.0</td>\n",
              "      <td>75.0</td>\n",
              "      <td>6.0</td>\n",
              "      <td>18.0</td>\n",
              "    </tr>\n",
              "    <tr>\n",
              "      <th>1</th>\n",
              "      <td>male</td>\n",
              "      <td>20</td>\n",
              "      <td>third</td>\n",
              "      <td>brown</td>\n",
              "      <td>70.0</td>\n",
              "      <td>120.0</td>\n",
              "      <td>3</td>\n",
              "      <td>0</td>\n",
              "      <td>24.0</td>\n",
              "      <td>No</td>\n",
              "      <td>0.0</td>\n",
              "      <td>50.0</td>\n",
              "      <td>0.0</td>\n",
              "      <td>3.0</td>\n",
              "    </tr>\n",
              "    <tr>\n",
              "      <th>2</th>\n",
              "      <td>female</td>\n",
              "      <td>18</td>\n",
              "      <td>first</td>\n",
              "      <td>green</td>\n",
              "      <td>67.0</td>\n",
              "      <td>200.0</td>\n",
              "      <td>0</td>\n",
              "      <td>1</td>\n",
              "      <td>35.0</td>\n",
              "      <td>Yes</td>\n",
              "      <td>3.0</td>\n",
              "      <td>53.0</td>\n",
              "      <td>8.0</td>\n",
              "      <td>1.0</td>\n",
              "    </tr>\n",
              "    <tr>\n",
              "      <th>3</th>\n",
              "      <td>male</td>\n",
              "      <td>23</td>\n",
              "      <td>fourth</td>\n",
              "      <td>hazel</td>\n",
              "      <td>74.0</td>\n",
              "      <td>140.0</td>\n",
              "      <td>1</td>\n",
              "      <td>1</td>\n",
              "      <td>5.0</td>\n",
              "      <td>Yes</td>\n",
              "      <td>25.0</td>\n",
              "      <td>50.0</td>\n",
              "      <td>0.0</td>\n",
              "      <td>7.0</td>\n",
              "    </tr>\n",
              "    <tr>\n",
              "      <th>4</th>\n",
              "      <td>female</td>\n",
              "      <td>19</td>\n",
              "      <td>second</td>\n",
              "      <td>blue</td>\n",
              "      <td>62.0</td>\n",
              "      <td>60.0</td>\n",
              "      <td>0</td>\n",
              "      <td>1</td>\n",
              "      <td>5.0</td>\n",
              "      <td>Yes</td>\n",
              "      <td>4.0</td>\n",
              "      <td>30.0</td>\n",
              "      <td>2.0</td>\n",
              "      <td>5.0</td>\n",
              "    </tr>\n",
              "  </tbody>\n",
              "</table>\n",
              "</div>"
            ],
            "text/plain": [
              "   gender  age    year eyecolor  ...  exercisehours  musiccds  playgames  watchtv\n",
              "0  female   18   first    hazel  ...            3.0      75.0        6.0     18.0\n",
              "1    male   20   third    brown  ...            0.0      50.0        0.0      3.0\n",
              "2  female   18   first    green  ...            3.0      53.0        8.0      1.0\n",
              "3    male   23  fourth    hazel  ...           25.0      50.0        0.0      7.0\n",
              "4  female   19  second     blue  ...            4.0      30.0        2.0      5.0\n",
              "\n",
              "[5 rows x 14 columns]"
            ]
          },
          "metadata": {
            "tags": []
          },
          "execution_count": 2
        }
      ]
    },
    {
      "cell_type": "markdown",
      "metadata": {
        "deletable": false,
        "editable": false,
        "nbgrader": {
          "checksum": "f27367e7e9ea794fdff16caaf9834f90",
          "grade": false,
          "grade_id": "cell-80cb77583712aa18",
          "locked": true,
          "schema_version": 1,
          "solution": false
        },
        "id": "S2_bd_sZugj_",
        "colab_type": "text"
      },
      "source": [
        "---\n",
        "**Question 1 (0.5 points, autograded)**: How many males and females exist in the dataset?"
      ]
    },
    {
      "cell_type": "code",
      "metadata": {
        "deletable": false,
        "nbgrader": {
          "checksum": "4b015ffcf2248033a4c736e194051ce0",
          "grade": false,
          "grade_id": "cell-b6afcdf2e16edeaf",
          "locked": false,
          "schema_version": 1,
          "solution": true
        },
        "id": "qowIpB1MugkL",
        "colab_type": "code",
        "colab": {}
      },
      "source": [
        "#The value set in the variables must be integers\n",
        "gender_counts = df.gender.value_counts()\n",
        "num_males = gender_counts['male']\n",
        "num_females = gender_counts['female']"
      ],
      "execution_count": 3,
      "outputs": []
    },
    {
      "cell_type": "code",
      "metadata": {
        "deletable": false,
        "editable": false,
        "nbgrader": {
          "checksum": "b5f6c5a26715775443afa42a101640d3",
          "grade": true,
          "grade_id": "cell-148801df79f2a9ad",
          "locked": true,
          "points": 0.5,
          "schema_version": 1,
          "solution": false
        },
        "id": "rxROmUKRugkQ",
        "colab_type": "code",
        "colab": {
          "base_uri": "https://localhost:8080/",
          "height": 34
        },
        "outputId": "d42a671a-ed77-4fc1-a77d-5bc2a5fe939c"
      },
      "source": [
        "#This is an autograded cell, do not edit\n",
        "print(num_males, num_females)"
      ],
      "execution_count": 4,
      "outputs": [
        {
          "output_type": "stream",
          "text": [
            "910 1078\n"
          ],
          "name": "stdout"
        }
      ]
    },
    {
      "cell_type": "markdown",
      "metadata": {
        "deletable": false,
        "editable": false,
        "nbgrader": {
          "checksum": "46a9256f2edd92e7d4ab52309a6b4c57",
          "grade": false,
          "grade_id": "cell-c087e3cd6c8885e2",
          "locked": true,
          "schema_version": 1,
          "solution": false
        },
        "id": "LE7EGFnbugkU",
        "colab_type": "text"
      },
      "source": [
        "---\n",
        "**Question 2 (0.5 points, autograded)**: What is the Gini Index of this dataset, using males and females as the target classes?"
      ]
    },
    {
      "cell_type": "code",
      "metadata": {
        "deletable": false,
        "nbgrader": {
          "checksum": "099940e4f38498b7848e39cf16effa72",
          "grade": false,
          "grade_id": "cell-77e48e0f5499c4dc",
          "locked": false,
          "schema_version": 1,
          "solution": true
        },
        "id": "L5-IeBVlugkV",
        "colab_type": "code",
        "colab": {}
      },
      "source": [
        "# YOUR CODE HERE\n",
        "def gini(df):\n",
        "  \"\"\"\n",
        "  Calculates the gini index from a series of value counts.\n",
        "  \"\"\"\n",
        "  series = df.gender.value_counts()\n",
        "  total = sum(series)\n",
        "  percentage_series = series / total\n",
        "\n",
        "  return 1-sum(percentage_series**2)"
      ],
      "execution_count": 5,
      "outputs": []
    },
    {
      "cell_type": "code",
      "metadata": {
        "deletable": false,
        "nbgrader": {
          "checksum": "9ad8fad77a751f201648404551610cd0",
          "grade": false,
          "grade_id": "cell-48020b6f76b01df8",
          "locked": false,
          "schema_version": 1,
          "solution": true
        },
        "id": "qWJVFWqqugkZ",
        "colab_type": "code",
        "colab": {}
      },
      "source": [
        "#The value set in the variable must be float\n",
        "gini_index = gini(df)"
      ],
      "execution_count": 6,
      "outputs": []
    },
    {
      "cell_type": "code",
      "metadata": {
        "deletable": false,
        "editable": false,
        "nbgrader": {
          "checksum": "9e64fcb8ce6b4b69fad066fea2ced65a",
          "grade": true,
          "grade_id": "cell-7ae5a16e0caf13e6",
          "locked": true,
          "points": 0.5,
          "schema_version": 1,
          "solution": false
        },
        "id": "N6nvXmTHugke",
        "colab_type": "code",
        "colab": {
          "base_uri": "https://localhost:8080/",
          "height": 34
        },
        "outputId": "94163dc8-fc2f-4e49-eb8c-2ba87efedb70"
      },
      "source": [
        "#This is an autograded cell, do not edit\n",
        "print(gini_index)"
      ],
      "execution_count": 7,
      "outputs": [
        {
          "output_type": "stream",
          "text": [
            "0.4964292799047807\n"
          ],
          "name": "stdout"
        }
      ]
    },
    {
      "cell_type": "markdown",
      "metadata": {
        "deletable": false,
        "editable": false,
        "nbgrader": {
          "checksum": "df88f99709afdfc9d92e17de990723e4",
          "grade": false,
          "grade_id": "cell-429dd5b9870bc4f0",
          "locked": true,
          "schema_version": 1,
          "solution": false
        },
        "id": "p4XzX2Jjugkj",
        "colab_type": "text"
      },
      "source": [
        "---\n",
        "## Best Split of a numeric feature\n",
        "**Question 3 (1.5 points, autograded)**: What is the best split point of the 'height' feature? (Still using males and females as the target classes, assuming a binary split)\n",
        "\n",
        "Recall that, to calculate the best split of this numeric field, you'll need to order your data by 'height', then consider the midpoint between each pair of consecutive heights as a potential split point, then calculate the Gini Index for that partitioning. You'll want to keep track of the best split point and its Gini Index (remember that you are trying to minimize the Gini Index). \n",
        "\n",
        "There are a lot of ways to do this. Some are very fast, others very slow. One tip to make this run quickly is, as you consecutively step through the data and calculate the Gini Index of each possible split point, keep a running total of the number of rows for each candidate that are located above and below the split point. \n",
        "\n",
        "Some Python tips: \n",
        "\n",
        "* Counter(), from the collections module, is a special dictionary for counting values of a key\n",
        "* zip() lets you concatenate lists into a list of tuples (for example, if we have a list of the candidates and a list of transaction amounts, zip(candidate_list, transaction_amount) would give us a list of (candidate, transaction amount) pairs"
      ]
    },
    {
      "cell_type": "code",
      "metadata": {
        "id": "51gWI3-0wj8b",
        "colab_type": "code",
        "colab": {}
      },
      "source": [
        "def gini_a(df):\n",
        "  true_rows = df[df.split]\n",
        "  false_rows = df[df.split == False]\n",
        "  total_num_rows = df.shape[0]\n",
        "  \n",
        "  return (true_rows.shape[0] / total_num_rows) * gini(true_rows) + (false_rows.shape[0] / total_num_rows) * gini(false_rows)"
      ],
      "execution_count": 8,
      "outputs": []
    },
    {
      "cell_type": "code",
      "metadata": {
        "deletable": false,
        "nbgrader": {
          "checksum": "6f2ddee90f539fef475c3cf581869a7f",
          "grade": false,
          "grade_id": "cell-fdcb9f54f35480c4",
          "locked": false,
          "schema_version": 1,
          "solution": true
        },
        "id": "RiMp3KiOugkv",
        "colab_type": "code",
        "colab": {}
      },
      "source": [
        "df_height = df.sort_values('height')\n",
        "heights = df_height.height.unique()\n",
        "\n",
        "best_gini = 1\n",
        "best_split_point = 0\n",
        "\n",
        "for i in range(len(heights) - 1):\n",
        "  split_point = (heights[i]+heights[i+1])/2\n",
        "  df_height['split'] = df_height.height.apply(lambda x: x < split_point)\n",
        "  this_gini = gini_a(df_height)\n",
        "  \n",
        "  if this_gini < best_gini:\n",
        "    best_gini = this_gini\n",
        "    best_split_point = split_point\n",
        "\n",
        "#The value set in the variable must be float"
      ],
      "execution_count": 9,
      "outputs": []
    },
    {
      "cell_type": "code",
      "metadata": {
        "deletable": false,
        "editable": false,
        "nbgrader": {
          "checksum": "2b3dd2ed02ddb601bc36a52f45defd92",
          "grade": true,
          "grade_id": "cell-323f912bd5314e78",
          "locked": true,
          "points": 1.5,
          "schema_version": 1,
          "solution": false
        },
        "id": "61AwBlXhugk0",
        "colab_type": "code",
        "colab": {
          "base_uri": "https://localhost:8080/",
          "height": 34
        },
        "outputId": "5184d10d-8c32-44a9-83f5-0f1447db38cf"
      },
      "source": [
        "#This is an autograded cell, do not edit\n",
        "print(best_split_point)"
      ],
      "execution_count": 10,
      "outputs": [
        {
          "output_type": "stream",
          "text": [
            "68.5\n"
          ],
          "name": "stdout"
        }
      ]
    },
    {
      "cell_type": "markdown",
      "metadata": {
        "deletable": false,
        "editable": false,
        "nbgrader": {
          "checksum": "166316144c3f9c6f82d2963c96c19ba4",
          "grade": false,
          "grade_id": "cell-aa468156b67c5ab6",
          "locked": true,
          "schema_version": 1,
          "solution": false
        },
        "id": "AawaoNa9ugk2",
        "colab_type": "text"
      },
      "source": [
        "---\n",
        "**Question 4 (0.5 points, autograded)**: What is the Gini index of the best split point of the 'height' feature? (Still using males and females as the target classes, assuming a binary split)\n"
      ]
    },
    {
      "cell_type": "code",
      "metadata": {
        "deletable": false,
        "nbgrader": {
          "checksum": "4264def559ba5fe2e77d3688f04d9cfd",
          "grade": false,
          "grade_id": "cell-bef6191446f0b09e",
          "locked": false,
          "schema_version": 1,
          "solution": true
        },
        "id": "nnY4qayGugk8",
        "colab_type": "code",
        "colab": {}
      },
      "source": [
        "#The value set in the variable must be float\n",
        "gini_of_best_split_point = best_gini"
      ],
      "execution_count": 11,
      "outputs": []
    },
    {
      "cell_type": "code",
      "metadata": {
        "deletable": false,
        "editable": false,
        "nbgrader": {
          "checksum": "0a0c63234a8f7fe57d8a19b011609fda",
          "grade": true,
          "grade_id": "cell-a483f7c52ce46218",
          "locked": true,
          "points": 0.5,
          "schema_version": 1,
          "solution": false
        },
        "id": "qtHNnrD8ugk_",
        "colab_type": "code",
        "colab": {
          "base_uri": "https://localhost:8080/",
          "height": 34
        },
        "outputId": "e5e937f8-54d8-4d0d-ac7e-18593dc8b081"
      },
      "source": [
        "#This is an autograded cell, do not edit\n",
        "print(gini_of_best_split_point)"
      ],
      "execution_count": 12,
      "outputs": [
        {
          "output_type": "stream",
          "text": [
            "0.2655288120702919\n"
          ],
          "name": "stdout"
        }
      ]
    },
    {
      "cell_type": "markdown",
      "metadata": {
        "deletable": false,
        "editable": false,
        "nbgrader": {
          "checksum": "3e4a285a07159ff52a5f4ffe396f74d6",
          "grade": false,
          "grade_id": "cell-3d05b5c3faef353d",
          "locked": true,
          "schema_version": 1,
          "solution": false
        },
        "id": "TILEzh_WuglE",
        "colab_type": "text"
      },
      "source": [
        "---\n",
        "**Question 5 (0.5 points, autograded)**: How much does this partitioning reduce the Gini Index over the Gini index of the overall dataset?"
      ]
    },
    {
      "cell_type": "code",
      "metadata": {
        "deletable": false,
        "nbgrader": {
          "checksum": "0d222b71a5f4dd420fd140eeefb846d4",
          "grade": false,
          "grade_id": "cell-fbcebc71fc8bc842",
          "locked": false,
          "schema_version": 1,
          "solution": true
        },
        "id": "Z_jBrzFLuglN",
        "colab_type": "code",
        "colab": {}
      },
      "source": [
        "#The value set in the variable must be float\n",
        "gini_difference = gini_index - gini_of_best_split_point"
      ],
      "execution_count": 13,
      "outputs": []
    },
    {
      "cell_type": "code",
      "metadata": {
        "deletable": false,
        "editable": false,
        "nbgrader": {
          "checksum": "86c116a776736ca45f3b04f15f237623",
          "grade": true,
          "grade_id": "cell-f24e621d36c96976",
          "locked": true,
          "points": 0.5,
          "schema_version": 1,
          "solution": false
        },
        "id": "XrLS99QPuglQ",
        "colab_type": "code",
        "colab": {
          "base_uri": "https://localhost:8080/",
          "height": 34
        },
        "outputId": "84e92321-467a-4a1c-8a11-35e34c74d453"
      },
      "source": [
        "#This is an autograded cell, do not edit\n",
        "print(gini_difference)"
      ],
      "execution_count": 14,
      "outputs": [
        {
          "output_type": "stream",
          "text": [
            "0.2309004678344888\n"
          ],
          "name": "stdout"
        }
      ]
    },
    {
      "cell_type": "markdown",
      "metadata": {
        "deletable": false,
        "editable": false,
        "nbgrader": {
          "checksum": "a3c0d5d5951cda89ddc95d0edd3c006d",
          "grade": false,
          "grade_id": "cell-68fc7f06fbb3bd5c",
          "locked": true,
          "schema_version": 1,
          "solution": false
        },
        "id": "4vI5aG7GuglS",
        "colab_type": "text"
      },
      "source": [
        "---\n",
        "**Question 6 (0.5 points, autograded)**: How many 'female' and 'male' rows are shorter than the best height split point?"
      ]
    },
    {
      "cell_type": "code",
      "metadata": {
        "deletable": false,
        "nbgrader": {
          "checksum": "71225beec49fc733245cd37612d3712e",
          "grade": false,
          "grade_id": "cell-fed4f19f21abcc31",
          "locked": false,
          "schema_version": 1,
          "solution": true
        },
        "id": "xAB5GTeauglX",
        "colab_type": "code",
        "colab": {}
      },
      "source": [
        "#The value set in the variable must be integer\n",
        "df_height['split'] = df_height.height.apply(lambda x: x < best_split_point)\n",
        "short_counts = df_height[df_height.split].gender.value_counts()\n",
        "\n",
        "female_rows_below = short_counts['female']\n",
        "male_rows_below = short_counts['male']"
      ],
      "execution_count": 15,
      "outputs": []
    },
    {
      "cell_type": "code",
      "metadata": {
        "deletable": false,
        "editable": false,
        "nbgrader": {
          "checksum": "12c1b2345e628bec41463cf88a60aeb0",
          "grade": true,
          "grade_id": "cell-8129604534bfec74",
          "locked": true,
          "points": 0.5,
          "schema_version": 1,
          "solution": false
        },
        "id": "MiBZAc9vugld",
        "colab_type": "code",
        "colab": {
          "base_uri": "https://localhost:8080/",
          "height": 34
        },
        "outputId": "4c2d92ec-f365-4bd0-a005-016930e10dc9"
      },
      "source": [
        "#This is an autograded cell, do not edit\n",
        "print(female_rows_below, male_rows_below)"
      ],
      "execution_count": 16,
      "outputs": [
        {
          "output_type": "stream",
          "text": [
            "905 142\n"
          ],
          "name": "stdout"
        }
      ]
    },
    {
      "cell_type": "markdown",
      "metadata": {
        "deletable": false,
        "editable": false,
        "nbgrader": {
          "checksum": "9fa8403981b6352444437901acb0d45c",
          "grade": false,
          "grade_id": "cell-95c30c8534082764",
          "locked": true,
          "schema_version": 1,
          "solution": false
        },
        "id": "GmBNDTILuglg",
        "colab_type": "text"
      },
      "source": [
        "---\n",
        "**Question 7 (0.5 points, autograded)**: How many 'female' and 'male' rows are taller than the best height split point?"
      ]
    },
    {
      "cell_type": "code",
      "metadata": {
        "deletable": false,
        "nbgrader": {
          "checksum": "e2697ca1d9a6feec241ff33460d57600",
          "grade": false,
          "grade_id": "cell-2314033286696a75",
          "locked": false,
          "schema_version": 1,
          "solution": true
        },
        "id": "46G-hbpnugll",
        "colab_type": "code",
        "colab": {}
      },
      "source": [
        "tall_counts = df_height[df_height.split == False].gender.value_counts()\n",
        "\n",
        "female_rows_above = tall_counts['female']\n",
        "male_rows_above = tall_counts['male']"
      ],
      "execution_count": 17,
      "outputs": []
    },
    {
      "cell_type": "code",
      "metadata": {
        "deletable": false,
        "editable": false,
        "nbgrader": {
          "checksum": "b2c8fbc90d6eb0473ef27e1855483904",
          "grade": true,
          "grade_id": "cell-da98dfdb73b8de96",
          "locked": true,
          "points": 0.5,
          "schema_version": 1,
          "solution": false
        },
        "id": "n2seT5oauglo",
        "colab_type": "code",
        "colab": {
          "base_uri": "https://localhost:8080/",
          "height": 34
        },
        "outputId": "acc1a2b7-814f-4347-b36c-4ebcf9d030ee"
      },
      "source": [
        "#This is an autograded cell, do not edit\n",
        "print(female_rows_above, male_rows_above)"
      ],
      "execution_count": 18,
      "outputs": [
        {
          "output_type": "stream",
          "text": [
            "173 768\n"
          ],
          "name": "stdout"
        }
      ]
    },
    {
      "cell_type": "markdown",
      "metadata": {
        "deletable": false,
        "editable": false,
        "nbgrader": {
          "checksum": "1600c335755c3857d742205f32718e81",
          "grade": false,
          "grade_id": "cell-f0f3bf7078e30689",
          "locked": true,
          "schema_version": 1,
          "solution": false
        },
        "id": "waG6P9fyuglt",
        "colab_type": "text"
      },
      "source": [
        "---\n",
        "## Best Split of a Categorial Variable\n",
        "\n",
        "**Question 8 (0.5 points, autograded)**: How many possible splits are there of the eyecolor feature? (Assuming binary split)\n",
        "\n",
        "Python tip: the combinations function of the itertools module allows you to enumerate combinations of a list. You might want to Google 'power set'.\n"
      ]
    },
    {
      "cell_type": "code",
      "metadata": {
        "deletable": false,
        "nbgrader": {
          "checksum": "2887cf4ef5a35baf851be351c05f0397",
          "grade": false,
          "grade_id": "cell-e5896ba56062be2d",
          "locked": false,
          "schema_version": 1,
          "solution": true
        },
        "id": "1uYaZLJnuglu",
        "colab_type": "code",
        "colab": {}
      },
      "source": [
        "from itertools import chain, combinations\n",
        "\n",
        "def powerset(iterable):\n",
        "    \"powerset([1,2,3]) --> () (1,) (2,) (3,) (1,2) (1,3) (2,3) (1,2,3)\"\n",
        "    s = list(iterable)\n",
        "    return chain.from_iterable(combinations(s, r) for r in range(1, len(s)))\n",
        "\n",
        "split_list = list(powerset(df.eyecolor.unique()))"
      ],
      "execution_count": 19,
      "outputs": []
    },
    {
      "cell_type": "code",
      "metadata": {
        "deletable": false,
        "nbgrader": {
          "checksum": "c295a12954acf6f936b6a921a548717d",
          "grade": false,
          "grade_id": "cell-7cc929e1f346c97c",
          "locked": false,
          "schema_version": 1,
          "solution": true
        },
        "id": "FozfnlkNuglx",
        "colab_type": "code",
        "colab": {}
      },
      "source": [
        "#The value set in the variable must be integer\n",
        "num_of_splits = len(split_list) / 2"
      ],
      "execution_count": 20,
      "outputs": []
    },
    {
      "cell_type": "code",
      "metadata": {
        "deletable": false,
        "editable": false,
        "nbgrader": {
          "checksum": "d10ef3967a94bfbc24d620dceae732ed",
          "grade": true,
          "grade_id": "cell-e345841556e102c6",
          "locked": true,
          "points": 0.5,
          "schema_version": 1,
          "solution": false
        },
        "id": "cLupsW1Sugl0",
        "colab_type": "code",
        "colab": {
          "base_uri": "https://localhost:8080/",
          "height": 34
        },
        "outputId": "53ddb53b-3714-40d9-efd1-d8c244be5018"
      },
      "source": [
        "#This is an autograded cell, do not edit\n",
        "print(num_of_splits)"
      ],
      "execution_count": 21,
      "outputs": [
        {
          "output_type": "stream",
          "text": [
            "15.0\n"
          ],
          "name": "stdout"
        }
      ]
    },
    {
      "cell_type": "markdown",
      "metadata": {
        "deletable": false,
        "editable": false,
        "nbgrader": {
          "checksum": "3f998cc39260ed85ff0341750544bd86",
          "grade": false,
          "grade_id": "cell-8503b7bec552f92c",
          "locked": true,
          "schema_version": 1,
          "solution": false
        },
        "id": "PuLJsUuvugl3",
        "colab_type": "text"
      },
      "source": [
        "---\n",
        "**Question 9 (1 points, autograded)**: Which split of eyecolor best splits the female and male rows, as measured by the Gini Index?"
      ]
    },
    {
      "cell_type": "code",
      "metadata": {
        "deletable": false,
        "nbgrader": {
          "checksum": "4f117805db47824ae1ef7129672c0d47",
          "grade": false,
          "grade_id": "cell-76f837f4f27e0842",
          "locked": false,
          "schema_version": 1,
          "solution": true
        },
        "id": "HLOlJnsqugl3",
        "colab_type": "code",
        "colab": {}
      },
      "source": [
        "# YOUR CODE HERE\n",
        "df_color = df.sort_values('eyecolor')\n",
        "best_gini = 1\n",
        "best_split_list = None\n",
        "\n",
        "for i in range(len(split_list)):\n",
        "  df_color['split'] = df_color.eyecolor.apply(lambda x: x in list(split_list[i]))\n",
        "  this_gini = gini_a(df_color)\n",
        "  \n",
        "  if this_gini < best_gini:\n",
        "    best_gini = this_gini\n",
        "    best_split_list = split_list[i]\n",
        "\n",
        "#The value set in the variable must be float"
      ],
      "execution_count": 22,
      "outputs": []
    },
    {
      "cell_type": "code",
      "metadata": {
        "deletable": false,
        "nbgrader": {
          "checksum": "1904d5cda806153db739b5a397c420ce",
          "grade": false,
          "grade_id": "cell-c6d008b0007ae4d7",
          "locked": false,
          "schema_version": 1,
          "solution": true
        },
        "id": "iTBzhW_Vugl5",
        "colab_type": "code",
        "colab": {}
      },
      "source": [
        "#The value set in the variable must be an array\n",
        "colour_group_1 = np.array(best_split_list)\n",
        "colour_group_2 = np.array([c for c in df.eyecolor.unique() if c not in best_split_list])"
      ],
      "execution_count": 23,
      "outputs": []
    },
    {
      "cell_type": "code",
      "metadata": {
        "deletable": false,
        "editable": false,
        "nbgrader": {
          "checksum": "4e306b120de04cbdc496f0bf5ca4bc75",
          "grade": true,
          "grade_id": "cell-633329070c59b89d",
          "locked": true,
          "points": 1,
          "schema_version": 1,
          "solution": false
        },
        "id": "DBKu0dDvugl-",
        "colab_type": "code",
        "colab": {
          "base_uri": "https://localhost:8080/",
          "height": 34
        },
        "outputId": "f13bd4b4-5eb9-4c22-9632-51f0a5654179"
      },
      "source": [
        "#This is an autograded cell, do not edit\n",
        "print(colour_group_1, colour_group_2)"
      ],
      "execution_count": 24,
      "outputs": [
        {
          "output_type": "stream",
          "text": [
            "['green'] ['hazel' 'brown' 'blue' 'other']\n"
          ],
          "name": "stdout"
        }
      ]
    },
    {
      "cell_type": "markdown",
      "metadata": {
        "deletable": false,
        "editable": false,
        "nbgrader": {
          "checksum": "a5fa6db03e0b1d03320f702d669e6328",
          "grade": false,
          "grade_id": "cell-54d3a4d63e10789a",
          "locked": true,
          "schema_version": 1,
          "solution": false
        },
        "id": "Q0n3uxWFugmC",
        "colab_type": "text"
      },
      "source": [
        "---\n",
        "**Question 10 (0.5 points, autograded)**: What is the Gini Index of this best split?"
      ]
    },
    {
      "cell_type": "code",
      "metadata": {
        "deletable": false,
        "nbgrader": {
          "checksum": "efce7c9024ee735ae78576a9e6153798",
          "grade": false,
          "grade_id": "cell-b9d691586c5addbd",
          "locked": false,
          "schema_version": 1,
          "solution": true
        },
        "id": "VYJlCiCuugmJ",
        "colab_type": "code",
        "colab": {}
      },
      "source": [
        "#The value set in the variable must be float\n",
        "gini_of_best_split_group = best_gini"
      ],
      "execution_count": 25,
      "outputs": []
    },
    {
      "cell_type": "code",
      "metadata": {
        "deletable": false,
        "editable": false,
        "nbgrader": {
          "checksum": "2d4da39818e70541f2d3a55729adbae0",
          "grade": true,
          "grade_id": "cell-7332ad4509b48564",
          "locked": true,
          "points": 0.5,
          "schema_version": 1,
          "solution": false
        },
        "id": "MFn6uVBcugmL",
        "colab_type": "code",
        "colab": {
          "base_uri": "https://localhost:8080/",
          "height": 34
        },
        "outputId": "308a5ca7-d986-4524-837a-a72a2b4a6008"
      },
      "source": [
        "#This is an autograded cell, do not edit\n",
        "print(gini_of_best_split_group)"
      ],
      "execution_count": 26,
      "outputs": [
        {
          "output_type": "stream",
          "text": [
            "0.4930915729509777\n"
          ],
          "name": "stdout"
        }
      ]
    },
    {
      "cell_type": "markdown",
      "metadata": {
        "deletable": false,
        "editable": false,
        "nbgrader": {
          "checksum": "473602565cfa2400f2ad7b85fd72b373",
          "grade": false,
          "grade_id": "cell-34f1033ad6a06232",
          "locked": true,
          "schema_version": 1,
          "solution": false
        },
        "id": "_o0PW2rLugmO",
        "colab_type": "text"
      },
      "source": [
        "---\n",
        "**Question 11 (0.5 points, autograded)**: How much does this partitioning reduce the Gini Index over the Gini index of the overall dataset?"
      ]
    },
    {
      "cell_type": "code",
      "metadata": {
        "deletable": false,
        "nbgrader": {
          "checksum": "7d84ef913eb55fa6ab7d5f327bc8b650",
          "grade": false,
          "grade_id": "cell-7e15f66615ed4361",
          "locked": false,
          "schema_version": 1,
          "solution": true
        },
        "id": "Z1m4Yf-NugmR",
        "colab_type": "code",
        "colab": {}
      },
      "source": [
        "#The value set in the variable must be float\n",
        "gini_difference_2 = gini_index - gini_of_best_split_group"
      ],
      "execution_count": 27,
      "outputs": []
    },
    {
      "cell_type": "code",
      "metadata": {
        "deletable": false,
        "editable": false,
        "nbgrader": {
          "checksum": "6ac2eb45e569ee8da44b7ed0faf33edc",
          "grade": true,
          "grade_id": "cell-a879c9d33c4f102f",
          "locked": true,
          "points": 0.5,
          "schema_version": 1,
          "solution": false
        },
        "id": "-7ij3URDugmT",
        "colab_type": "code",
        "colab": {
          "base_uri": "https://localhost:8080/",
          "height": 34
        },
        "outputId": "fa02c451-4df2-4bca-f633-80186bf40d27"
      },
      "source": [
        "#This is an autograded cell, do not edit\n",
        "print(gini_difference_2)"
      ],
      "execution_count": 28,
      "outputs": [
        {
          "output_type": "stream",
          "text": [
            "0.003337706953802977\n"
          ],
          "name": "stdout"
        }
      ]
    },
    {
      "cell_type": "markdown",
      "metadata": {
        "deletable": false,
        "editable": false,
        "nbgrader": {
          "checksum": "60aae9f1a5f6e166acf954ee3219986a",
          "grade": false,
          "grade_id": "cell-a47e13b3fcc0108a",
          "locked": true,
          "schema_version": 1,
          "solution": false
        },
        "id": "C0UNgzrTugmX",
        "colab_type": "text"
      },
      "source": [
        "---\n",
        "**Question 12 (1 points, autograded)** : How many 'female' rows and 'male' rows are in your first partition? How many 'female' rows and 'male' rows are in your second partition?"
      ]
    },
    {
      "cell_type": "code",
      "metadata": {
        "deletable": false,
        "nbgrader": {
          "checksum": "83f6848101b44ce8d5d499484d55d3b2",
          "grade": false,
          "grade_id": "cell-da838430a7b931e1",
          "locked": false,
          "schema_version": 1,
          "solution": true
        },
        "id": "JguwfDQmugmY",
        "colab_type": "code",
        "colab": {}
      },
      "source": [
        "df_color['split'] = df_color.eyecolor.apply(lambda x: x in best_split_list)\n",
        "p1_counts = df_color[df_color.split].gender.value_counts()\n",
        "p2_counts = df_color[df_color.split == False].gender.value_counts()\n",
        "\n",
        "female_rows_below = p1_counts['female']\n",
        "male_rows_below = p2_counts['male']"
      ],
      "execution_count": 29,
      "outputs": []
    },
    {
      "cell_type": "code",
      "metadata": {
        "deletable": false,
        "nbgrader": {
          "checksum": "3c880462e0a6e9e9d64542752b22cbef",
          "grade": false,
          "grade_id": "cell-e4c3bc95376f6df7",
          "locked": false,
          "schema_version": 1,
          "solution": true
        },
        "id": "H-dDxSbDugma",
        "colab_type": "code",
        "colab": {}
      },
      "source": [
        "#The value set in the variable must be integer, order doesn't matter\n",
        "partition1_male = p1_counts['male']\n",
        "partition1_female = p1_counts['female']\n",
        "partition2_male = p2_counts['male']\n",
        "partition2_female = p2_counts['female']"
      ],
      "execution_count": 30,
      "outputs": []
    },
    {
      "cell_type": "code",
      "metadata": {
        "deletable": false,
        "editable": false,
        "nbgrader": {
          "checksum": "0fdc2e6ab8f5b169f5bfd9566d85fc01",
          "grade": true,
          "grade_id": "cell-1c022d94964cb6cc",
          "locked": true,
          "points": 1,
          "schema_version": 1,
          "solution": false
        },
        "id": "XYCfnyCNugmd",
        "colab_type": "code",
        "colab": {
          "base_uri": "https://localhost:8080/",
          "height": 34
        },
        "outputId": "d0722cc4-bc8b-4908-c3d6-6b8c43088856"
      },
      "source": [
        "#This is an autograded cell, do not edit\n",
        "print(partition1_male, partition1_female, partition2_male, partition2_female)"
      ],
      "execution_count": 31,
      "outputs": [
        {
          "output_type": "stream",
          "text": [
            "107 190 803 888\n"
          ],
          "name": "stdout"
        }
      ]
    },
    {
      "cell_type": "markdown",
      "metadata": {
        "deletable": false,
        "editable": false,
        "nbgrader": {
          "checksum": "2d2ab95c05c31c5f214bd422e16e450b",
          "grade": false,
          "grade_id": "cell-d81b2ec1e886e1b6",
          "locked": true,
          "schema_version": 1,
          "solution": false
        },
        "id": "JoFggmQGugmi",
        "colab_type": "text"
      },
      "source": [
        "---\n",
        "## Training a decision tree\n",
        "**Question 13 (1 points, autograded)**: Using all of the features in the original dataframe read in at the top of this notebook, train a decision tree classifier that has a depth of three (not including the root node). What is the accuracy of this classifier on the training data?\n",
        "\n",
        "Scikit-learn classifiers require class labels and features to be in numeric arrays. As such, you will need to turn your categorical features into numeric arrays using DictVectorizer. This is a helpful notebook for understanding how to do this: http://nbviewer.ipython.org/gist/sarguido/7423289. You can turn a pandas dataframe of features into a dictionary of the form needed by DictVectorizer by using df.to_dict('records'). Make sure you remove the class label first (in this case, gender). If you use the class label as a feature, your classifier will have a training accuracy of 100%! The example notebook link also shows how to turn your class labels into a numeric array using sklearn.preprocessing.LabelEncoder()."
      ]
    },
    {
      "cell_type": "code",
      "metadata": {
        "id": "2tbC_W1DKM56",
        "colab_type": "code",
        "colab": {}
      },
      "source": [
        "from sklearn.feature_extraction import DictVectorizer\n",
        "from sklearn import preprocessing\n",
        "\n",
        "X = df.drop('gender', axis=1).to_dict('records')\n",
        "y = df['gender']\n",
        "\n",
        "vec = DictVectorizer()\n",
        "X = vec.fit_transform(X)\n",
        "\n",
        "le = preprocessing.LabelEncoder()\n",
        "le.fit([\"male\", \"female\"])\n",
        "y = le.transform(y)"
      ],
      "execution_count": 32,
      "outputs": []
    },
    {
      "cell_type": "code",
      "metadata": {
        "deletable": false,
        "nbgrader": {
          "checksum": "14960b019250231f745c6db5a38c70f7",
          "grade": false,
          "grade_id": "cell-a77a52f79c83b21a",
          "locked": false,
          "schema_version": 1,
          "solution": true
        },
        "id": "kFIx_xdyugmj",
        "colab_type": "code",
        "colab": {}
      },
      "source": [
        "from sklearn.model_selection import train_test_split\n",
        "\n",
        "X_train, X_test, y_train, y_test = train_test_split(X, y)"
      ],
      "execution_count": 33,
      "outputs": []
    },
    {
      "cell_type": "code",
      "metadata": {
        "deletable": false,
        "nbgrader": {
          "checksum": "f26339bc22d99829fefeb18e1c46cb06",
          "grade": false,
          "grade_id": "cell-55c9f9a2702cf09c",
          "locked": false,
          "schema_version": 1,
          "solution": true
        },
        "id": "CqowI-lrugmn",
        "colab_type": "code",
        "colab": {}
      },
      "source": [
        "from sklearn.tree import DecisionTreeClassifier\n",
        "clf = DecisionTreeClassifier(random_state=42, max_depth=3)\n",
        "clf.fit(X_train, y_train)\n",
        "\n",
        "#The value set in the variable must be float\n",
        "accuracy = clf.score(X_test, y_test)"
      ],
      "execution_count": 34,
      "outputs": []
    },
    {
      "cell_type": "code",
      "metadata": {
        "deletable": false,
        "editable": false,
        "nbgrader": {
          "checksum": "75544e763b81e3e36748ea0f4989c6ae",
          "grade": true,
          "grade_id": "cell-329a69c83b199316",
          "locked": true,
          "points": 1,
          "schema_version": 1,
          "solution": false
        },
        "id": "urP93Al5ugmu",
        "colab_type": "code",
        "colab": {
          "base_uri": "https://localhost:8080/",
          "height": 34
        },
        "outputId": "097de634-a2b9-415b-8b3a-b2acb6e5bc2b"
      },
      "source": [
        "#This is an autograded cell, do not edit\n",
        "print(accuracy)"
      ],
      "execution_count": 35,
      "outputs": [
        {
          "output_type": "stream",
          "text": [
            "0.8551307847082495\n"
          ],
          "name": "stdout"
        }
      ]
    },
    {
      "cell_type": "markdown",
      "metadata": {
        "deletable": false,
        "editable": false,
        "nbgrader": {
          "checksum": "f23e20cb9c25f2f8d674f98079625ff2",
          "grade": false,
          "grade_id": "cell-e321872a66519e2c",
          "locked": true,
          "schema_version": 1,
          "solution": false
        },
        "id": "MpU-3jviugm1",
        "colab_type": "text"
      },
      "source": [
        "---\n",
        "**Question 14 (1 points, manually graded)**: Using the following code snippet, export your decision tree to graphviz and visualize it. In your write-up, write down the interpretation of the rule at each node which is used to perform the splitting.\n",
        "\n",
        "In order to install graphviz, you may need to download the tool from [this website](https://graphviz.gitlab.io), and then pip3/conda install the python libraries you do not have.\n",
        "\n",
        "Mac users can use ```brew install graphviz``` instead of following the link, and linux users can do the same using their favourite package manager (for example, Ubuntu users can use ```sudo apt-get install graphviz```, followed by the necessary pip3/conda installations."
      ]
    },
    {
      "cell_type": "code",
      "metadata": {
        "id": "52hOt_lYT0r3",
        "colab_type": "code",
        "colab": {
          "base_uri": "https://localhost:8080/",
          "height": 102
        },
        "outputId": "cba80ab1-5e08-464f-d850-211bd41529eb"
      },
      "source": [
        "!sudo apt-get install graphviz"
      ],
      "execution_count": 36,
      "outputs": [
        {
          "output_type": "stream",
          "text": [
            "Reading package lists... Done\n",
            "Building dependency tree       \n",
            "Reading state information... Done\n",
            "graphviz is already the newest version (2.40.1-2).\n",
            "0 upgraded, 0 newly installed, 0 to remove and 11 not upgraded.\n"
          ],
          "name": "stdout"
        }
      ]
    },
    {
      "cell_type": "code",
      "metadata": {
        "deletable": false,
        "editable": false,
        "nbgrader": {
          "checksum": "b43dac070b745305841e22382bc87bda",
          "grade": false,
          "grade_id": "cell-5aaab8332072d23e",
          "locked": true,
          "schema_version": 1,
          "solution": false
        },
        "id": "H80MNiT4ugm2",
        "colab_type": "code",
        "colab": {
          "base_uri": "https://localhost:8080/",
          "height": 593
        },
        "outputId": "6c2de6a9-ad22-42f5-9e96-e8c73d9327c4"
      },
      "source": [
        "from IPython.display import Image  \n",
        "import pydotplus \n",
        "import pydot\n",
        "from sklearn.externals.six import StringIO\n",
        "from sklearn import tree\n",
        "\n",
        "# clf = your classifier\n",
        "dotfile = StringIO() \n",
        "tree.export_graphviz(clf, out_file=dotfile,\n",
        "                     feature_names=vec.feature_names_,  \n",
        "                         class_names=['Female', 'Male'],  \n",
        "                         filled=True, rounded=True,  \n",
        "                         special_characters=True)\n",
        "graph = pydotplus.graph_from_dot_data(dotfile.getvalue())\n",
        "Image(graph.create_png())\n",
        "\n",
        "#Ignore the cell below, but do not delete it. It is used to grade the image output of this cell."
      ],
      "execution_count": 37,
      "outputs": [
        {
          "output_type": "stream",
          "text": [
            "/usr/local/lib/python3.6/dist-packages/sklearn/externals/six.py:31: FutureWarning: The module is deprecated in version 0.21 and will be removed in version 0.23 since we've dropped support for Python 2.7. Please rely on the official version of six (https://pypi.org/project/six/).\n",
            "  \"(https://pypi.org/project/six/).\", FutureWarning)\n"
          ],
          "name": "stderr"
        },
        {
          "output_type": "execute_result",
          "data": {
            "image/png": "[encoded data removed]",
            "text/plain": [
              "<IPython.core.display.Image object>"
            ]
          },
          "metadata": {
            "tags": []
          },
          "execution_count": 37
        }
      ]
    },
    {
      "cell_type": "code",
      "metadata": {
        "deletable": false,
        "nbgrader": {
          "checksum": "cd77be0d5dbdbf44dccc26ef3ee69512",
          "grade": true,
          "grade_id": "cell-ebde7100c67bf20c",
          "locked": false,
          "points": 1,
          "schema_version": 1,
          "solution": true
        },
        "id": "ty3tzOLVugm8",
        "colab_type": "code",
        "colab": {}
      },
      "source": [
        "# YOUR CODE HERE\n",
        "# the split rules are as follows:\n",
        "# height at 68.5\n",
        "# height at 67.5 and 70.5\n",
        "# playgames at 7.5, 0.75, 2.5, 0.75"
      ],
      "execution_count": 38,
      "outputs": []
    },
    {
      "cell_type": "markdown",
      "metadata": {
        "deletable": false,
        "editable": false,
        "nbgrader": {
          "checksum": "29e84207b6e13109206f7ef78d0ff602",
          "grade": false,
          "grade_id": "cell-06714e6427b2d0d0",
          "locked": true,
          "schema_version": 1,
          "solution": false
        },
        "id": "gIOPTYuiugnF",
        "colab_type": "text"
      },
      "source": [
        "---\n",
        "## Bonus Question (2 points, auto graded)\n",
        "For each of your leaf nodes, specify the percentage of 'female' rows in that node (out of the total number of rows at that node)\n"
      ]
    },
    {
      "cell_type": "code",
      "metadata": {
        "deletable": false,
        "nbgrader": {
          "checksum": "88cda91aeb11b6f96d6c2bacf4a4804e",
          "grade": false,
          "grade_id": "cell-650a81bc31e6f608",
          "locked": false,
          "schema_version": 1,
          "solution": true
        },
        "id": "co_iRKrUugnG",
        "colab_type": "code",
        "colab": {}
      },
      "source": [
        "#The value set in the variable must be array\n",
        "ratios = [679/781, 601/659, 575/617, 26/42, 78/122, 34/71, 135/710, 93/251, 80/146, 13/105, 42/459, 26/112, 16/347] #Replace 0 with the actual value\n"
      ],
      "execution_count": 39,
      "outputs": []
    },
    {
      "cell_type": "code",
      "metadata": {
        "deletable": false,
        "editable": false,
        "nbgrader": {
          "checksum": "de18cf01eb62a9398145d3f1879681d5",
          "grade": true,
          "grade_id": "cell-2cc540aa430d101d",
          "locked": true,
          "points": 2,
          "schema_version": 1,
          "solution": false
        },
        "id": "Ugyn_t3lugnH",
        "colab_type": "code",
        "colab": {
          "base_uri": "https://localhost:8080/",
          "height": 54
        },
        "outputId": "25c0c036-b5d7-4f84-dd8e-249d0433ec4a"
      },
      "source": [
        "#This is an autograded cell, do not edit\n",
        "print(ratios)"
      ],
      "execution_count": 40,
      "outputs": [
        {
          "output_type": "stream",
          "text": [
            "[0.8693982074263764, 0.9119878603945372, 0.9319286871961102, 0.6190476190476191, 0.639344262295082, 0.4788732394366197, 0.19014084507042253, 0.3705179282868526, 0.547945205479452, 0.12380952380952381, 0.0915032679738562, 0.23214285714285715, 0.04610951008645533]\n"
          ],
          "name": "stdout"
        }
      ]
    }
  ]
}