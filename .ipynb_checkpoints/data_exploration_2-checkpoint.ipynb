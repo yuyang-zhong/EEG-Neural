{
 "cells": [
  {
   "cell_type": "code",
   "execution_count": 31,
   "metadata": {},
   "outputs": [],
   "source": [
    "import numpy as np\n",
    "import matplotlib.pyplot as plt\n",
    "import seaborn as sns\n",
    "\n",
    "import mne\n",
    "from mne.preprocessing import ICA, create_ecg_epochs\n",
    "\n",
    "from mne_bids import read_raw_bids\n",
    "from mne.decoding import UnsupervisedSpatialFilter\n",
    "\n",
    "from sklearn.decomposition import PCA, FastICA"
   ]
  },
  {
   "cell_type": "code",
   "execution_count": 62,
   "metadata": {},
   "outputs": [
    {
     "name": "stdout",
     "output_type": "stream",
     "text": [
      "Extracting EDF parameters from /Users/yuyang.zhong/eeg/rawdata/bidsexport/sub-001/ses-01/eeg/sub-001_ses-01_task-meditation_eeg.bdf...\n",
      "BDF file detected\n",
      "Setting channel info structure...\n",
      "Creating raw.info structure...\n",
      "Reading 0 ... 696575  =      0.000 ...  2720.996 secs...\n",
      "Filtering raw data in 1 contiguous segment\n",
      "Setting up band-pass filter from 1 - 20 Hz\n",
      "\n",
      "FIR filter parameters\n",
      "---------------------\n",
      "Designing a one-pass, zero-phase, non-causal bandpass filter:\n",
      "- Windowed time-domain design (firwin) method\n",
      "- Hamming window with 0.0194 passband ripple and 53 dB stopband attenuation\n",
      "- Lower passband edge: 1.00\n",
      "- Lower transition bandwidth: 1.00 Hz (-6 dB cutoff frequency: 0.50 Hz)\n",
      "- Upper passband edge: 20.00 Hz\n",
      "- Upper transition bandwidth: 5.00 Hz (-6 dB cutoff frequency: 22.50 Hz)\n",
      "- Filter length: 845 samples (3.301 sec)\n",
      "\n",
      "Trigger channel has a non-zero initial value of 65536 (consider using initial_event=True to detect this event)\n",
      "Removing orphaned offset at the beginning of the file.\n",
      "87 events found\n",
      "Event IDs: [  2   4 128]\n",
      "87 matching events found\n",
      "Applying baseline correction (mode: mean)\n",
      "Not setting metadata\n",
      "0 projection items activated\n",
      "Loading data for 87 events and 32052 original time points ...\n",
      "5 bad epochs dropped\n"
     ]
    }
   ],
   "source": [
    "raw_path = 'rawdata/bidsexport/'\n",
    "# raw_fname = 'sub-001_ses-01_task-meditation_eeg.bdf'\n",
    "raw_fname = 'rawdata/bidsexport/sub-001/ses-01/eeg/sub-001_ses-01_task-meditation_eeg.bdf'\n",
    "\n",
    "# raw = read_raw_bids(raw_fname, raw_path, verbose=False)\n",
    "# raw.pick_types(eeg=True, exclude='bads')\n",
    "# raw.drop_channels('Status')\n",
    "# raw.filter(1, 30, fir_design='firwin')\n",
    "\n",
    "# events = mne.find_events(raw)\n",
    "# epochs = mne.Epochs(raw, events, event_id=None, tmin=-0.2, tmax=0.5)\n",
    "\n",
    "\n",
    "raw = mne.io.read_raw_bdf(raw_fname, preload=True)\n",
    "raw.pick_types(meg=False, eeg=True, exclude='bads', stim=True)\n",
    "raw.filter(1, 20, fir_design='firwin')\n",
    "\n",
    "# longer + more epochs for more artifact exposure\n",
    "events = mne.find_events(raw, stim_channel='Status')\n",
    "epochs = mne.Epochs(raw, events, event_id=None, tmin=-0.2, tmax=125)\n",
    "X = epochs.get_data()"
   ]
  },
  {
   "cell_type": "code",
   "execution_count": null,
   "metadata": {},
   "outputs": [],
   "source": [
    "ica = ICA(n_components=1, method='fastica').fit(epochs)\n",
    "\n",
    "ecg_epochs = create_ecg_epochs(raw, tmin=-.5, tmax=.5)\n",
    "ecg_inds, scores = ica.find_bads_ecg(ecg_epochs)\n",
    "\n",
    "ica.plot_components(ecg_inds)"
   ]
  },
  {
   "cell_type": "code",
   "execution_count": 66,
   "metadata": {},
   "outputs": [
    {
     "data": {
      "image/png": "[encoded data removed]",
      "text/plain": [
       "<Figure size 460.8x216 with 1 Axes>"
      ]
     },
     "metadata": {
      "needs_background": "light"
     },
     "output_type": "display_data"
    }
   ],
   "source": [
    "tmin, tmax = -0.2, 125\n",
    "\n",
    "pca = UnsupervisedSpatialFilter(PCA(30), average=False)\n",
    "pca_data = pca.fit_transform(X)\n",
    "ev = mne.EvokedArray(np.mean(pca_data, axis=0),\n",
    "                     mne.create_info(30, epochs.info['sfreq'],\n",
    "                                     ch_types='eeg'), tmin=tmin)\n",
    "ev.plot(show=False, window_title=\"PCA\", time_unit='s')\n",
    "plt.show()"
   ]
  },
  {
   "cell_type": "code",
   "execution_count": 67,
   "metadata": {},
   "outputs": [
    {
     "data": {
      "image/png": "[encoded data removed]",
      "text/plain": [
       "<Figure size 460.8x216 with 1 Axes>"
      ]
     },
     "metadata": {
      "needs_background": "light"
     },
     "output_type": "display_data"
    }
   ],
   "source": [
    "ica = UnsupervisedSpatialFilter(FastICA(30), average=False)\n",
    "ica_data = ica.fit_transform(X)\n",
    "ev1 = mne.EvokedArray(np.mean(ica_data, axis=0),\n",
    "                      mne.create_info(30, epochs.info['sfreq'],\n",
    "                                      ch_types='eeg'), tmin=tmin)\n",
    "ev1.plot(show=False, window_title='ICA', time_unit='s')\n",
    "plt.show()"
   ]
  },
  {
   "cell_type": "code",
   "execution_count": null,
   "metadata": {},
   "outputs": [],
   "source": []
  }
 ],
 "metadata": {
  "kernelspec": {
   "display_name": "Python 3",
   "language": "python",
   "name": "python3"
  },
  "language_info": {
   "codemirror_mode": {
    "name": "ipython",
    "version": 3
   },
   "file_extension": ".py",
   "mimetype": "text/x-python",
   "name": "python",
   "nbconvert_exporter": "python",
   "pygments_lexer": "ipython3",
   "version": "3.7.4"
  }
 },
 "nbformat": 4,
 "nbformat_minor": 2
}
